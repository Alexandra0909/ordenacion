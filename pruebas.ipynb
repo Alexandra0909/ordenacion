{
 "cells": [
  {
   "cell_type": "code",
   "execution_count": 3,
   "metadata": {},
   "outputs": [],
   "source": [
    "import pygame"
   ]
  },
  {
   "cell_type": "code",
   "execution_count": 4,
   "metadata": {},
   "outputs": [],
   "source": [
    "import pygame_widgets"
   ]
  },
  {
   "cell_type": "code",
   "execution_count": 10,
   "metadata": {},
   "outputs": [],
   "source": [
    "from pygame_widgets.button import Button \n",
    "\n",
    "pygame.init()\n",
    "win = pygame.display.set_mode((600, 600))\n",
    "button = Button(\n",
    "    win, 100, 100, 300, 100,\n",
    "    text='agregar', fontSize=50, margin=20, inactiveColour=(200, 50, 0),\n",
    "    hoverColour=(150, 0, 0), pressedColour=(0, 200, 20), radius=20,\n",
    "    onclick=lambda: agregarNumero()\n",
    "\n",
    ")\n",
    "button2 = Button(\n",
    "    win, 100, 210, 300, 100,\n",
    "    text='ordenar', fontSize=50, margin=20, inactiveColour=(200, 50, 0),\n",
    "    hoverColour=(150, 0, 0), pressedColour=(0, 200, 20), radius=20,\n",
    "    onclick=lambda: ordenar()\n",
    ")\n",
    "run = True\n",
    "while run:\n",
    "    events = pygame.event.get()\n",
    "    for event in events:\n",
    "        if event.type == pygame.QUIT:\n",
    "            pygame.quit()\n",
    "            run = False\n",
    "            break\n",
    "\n",
    "        if run==False:\n",
    "            break\n",
    "        win.fill((255, 255, 255))\n",
    "\n",
    "        pygame_widgets.update(events)\n",
    "        pygame.display.update()\n",
    "        "
   ]
  }
 ],
 "metadata": {
  "kernelspec": {
   "display_name": "Python 3.11.4 ('base')",
   "language": "python",
   "name": "python3"
  },
  "language_info": {
   "codemirror_mode": {
    "name": "ipython",
    "version": 3
   },
   "file_extension": ".py",
   "mimetype": "text/x-python",
   "name": "python",
   "nbconvert_exporter": "python",
   "pygments_lexer": "ipython3",
   "version": "3.11.4"
  },
  "orig_nbformat": 4,
  "vscode": {
   "interpreter": {
    "hash": "9e6df71ca607ed2670dad936abb61c1e093e92ac2614302ba7a0b2d4126376ed"
   }
  }
 },
 "nbformat": 4,
 "nbformat_minor": 2
}
