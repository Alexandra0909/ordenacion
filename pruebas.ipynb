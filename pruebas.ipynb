{
 "cells": [
  {
   "cell_type": "code",
   "execution_count": 18,
   "metadata": {},
   "outputs": [],
   "source": [
    "import pygame"
   ]
  },
  {
   "cell_type": "code",
   "execution_count": 19,
   "metadata": {},
   "outputs": [],
   "source": [
    "import pygame_widgets\n",
    "\n"
   ]
  },
  {
   "cell_type": "code",
   "execution_count": 9,
   "metadata": {},
   "outputs": [],
   "source": [
    "def agregarNumero(linea):\n",
    "    global n\n",
    "    n.append(int(tNumero.getText()))\n",
    "    tResultado.setText(n)\n",
    "\n",
    "\n",
    "def ordenar():\n",
    "    parar = 0\n",
    "    global contador\n",
    "    global n \n",
    "    for i in range(len(n)-1):\n",
    "        parar = 1\n",
    "\n",
    "        for j in range(len(n)-1):\n",
    "            if n[j]>n[j+1]:\n",
    "                swap[j]\n",
    "                contador +=1\n",
    "                parar = 0\n",
    "        if parar ==1:\n",
    "            break\n",
    "    t.Resultado.setText(n)\n"
   ]
  },
  {
   "cell_type": "code",
   "execution_count": 1,
   "metadata": {},
   "outputs": [
    {
     "name": "stdout",
     "output_type": "stream",
     "text": [
      "pygame 2.6.1 (SDL 2.28.4, Python 3.11.4)\n",
      "Hello from the pygame community. https://www.pygame.org/contribute.html\n"
     ]
    },
    {
     "ename": "NameError",
     "evalue": "name 'pygame' is not defined",
     "output_type": "error",
     "traceback": [
      "\u001b[0;31m---------------------------------------------------------------------------\u001b[0m",
      "\u001b[0;31mNameError\u001b[0m                                 Traceback (most recent call last)",
      "Cell \u001b[0;32mIn[1], line 4\u001b[0m\n\u001b[1;32m      1\u001b[0m \u001b[39mfrom\u001b[39;00m \u001b[39mpygame_widgets\u001b[39;00m\u001b[39m.\u001b[39;00m\u001b[39mbutton\u001b[39;00m \u001b[39mimport\u001b[39;00m Button \n\u001b[1;32m      2\u001b[0m \u001b[39mfrom\u001b[39;00m \u001b[39mpygame_widgets\u001b[39;00m\u001b[39m.\u001b[39;00m\u001b[39mtextbox\u001b[39;00m \u001b[39mimport\u001b[39;00m TextBox \n\u001b[0;32m----> 4\u001b[0m pygame\u001b[39m.\u001b[39minit()\n\u001b[1;32m      5\u001b[0m win \u001b[39m=\u001b[39m pygame\u001b[39m.\u001b[39mdisplay\u001b[39m.\u001b[39mset_mode((\u001b[39m600\u001b[39m, \u001b[39m600\u001b[39m))\n\u001b[1;32m      6\u001b[0m button \u001b[39m=\u001b[39m Button(\n\u001b[1;32m      7\u001b[0m     win, \u001b[39m100\u001b[39m, \u001b[39m100\u001b[39m, \u001b[39m300\u001b[39m, \u001b[39m100\u001b[39m,\n\u001b[1;32m      8\u001b[0m     text\u001b[39m=\u001b[39m\u001b[39m'\u001b[39m\u001b[39magregar\u001b[39m\u001b[39m'\u001b[39m, fontSize\u001b[39m=\u001b[39m\u001b[39m50\u001b[39m, margin\u001b[39m=\u001b[39m\u001b[39m20\u001b[39m, inactiveColour\u001b[39m=\u001b[39m(\u001b[39m200\u001b[39m, \u001b[39m50\u001b[39m, \u001b[39m0\u001b[39m),\n\u001b[0;32m   (...)\u001b[0m\n\u001b[1;32m     11\u001b[0m \n\u001b[1;32m     12\u001b[0m )\n",
      "\u001b[0;31mNameError\u001b[0m: name 'pygame' is not defined"
     ]
    }
   ],
   "source": [
    "from pygame_widgets.button import Button \n",
    "from pygame_widgets.textbox import TextBox \n",
    "\n",
    "pygame.init()\n",
    "win = pygame.display.set_mode((600, 600))\n",
    "button = Button(\n",
    "    win, 100, 100, 300, 100,\n",
    "    text='agregar', fontSize=50, margin=20, inactiveColour=(200, 50, 0),\n",
    "    hoverColour=(150, 0, 0), pressedColour=(0, 200, 20), radius=20,\n",
    "    onclick=lambda: agregarNumero()\n",
    "\n",
    ")\n",
    "button2 = Button(\n",
    "    win, 100, 210, 300, 100,\n",
    "    text='ordenar', fontSize=50, margin=20, inactiveColour=(200, 50, 0),\n",
    "    hoverColour=(150, 0, 0), pressedColour=(0, 200, 20), radius=20,\n",
    "    onclick=lambda: ordenar()\n",
    ")\n",
    "tNumero = TextBox(win, 100, 10, 300, 70, fontSize=40)\n",
    "\n",
    "run = True\n",
    "while run:\n",
    "    events = pygame.event.get()\n",
    "    for event in events:\n",
    "        if event.type == pygame.QUIT:\n",
    "            pygame.quit()\n",
    "            run = False\n",
    "            break\n",
    "\n",
    "        if run==False:\n",
    "            break\n",
    "        win.fill((255, 255, 255))\n",
    "\n",
    "        pygame_widgets.update(events)\n",
    "        pygame.display.update()\n",
    "        "
   ]
  }
 ],
 "metadata": {
  "kernelspec": {
   "display_name": "Python 3.11.4 ('base')",
   "language": "python",
   "name": "python3"
  },
  "language_info": {
   "codemirror_mode": {
    "name": "ipython",
    "version": 3
   },
   "file_extension": ".py",
   "mimetype": "text/x-python",
   "name": "python",
   "nbconvert_exporter": "python",
   "pygments_lexer": "ipython3",
   "version": "3.11.4"
  },
  "orig_nbformat": 4,
  "vscode": {
   "interpreter": {
    "hash": "9e6df71ca607ed2670dad936abb61c1e093e92ac2614302ba7a0b2d4126376ed"
   }
  }
 },
 "nbformat": 4,
 "nbformat_minor": 2
}
